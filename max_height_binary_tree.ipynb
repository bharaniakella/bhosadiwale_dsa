{
  "nbformat": 4,
  "nbformat_minor": 0,
  "metadata": {
    "colab": {
      "provenance": []
    },
    "kernelspec": {
      "name": "python3",
      "display_name": "Python 3"
    },
    "language_info": {
      "name": "python"
    }
  },
  "cells": [
    {
      "cell_type": "code",
      "execution_count": null,
      "metadata": {
        "id": "rw9H7F34Dq24"
      },
      "outputs": [],
      "source": [
        "class Solution:\n",
        "    def maxDepth(self, root: Optional[TreeNode]) -> int:\n",
        "        if(root is None):\n",
        "            return 0\n",
        "\n",
        "        lh=self.maxDepth(root.left)\n",
        "        rh=self.maxDepth(root.right)\n",
        "\n",
        "        return 1+max(lh,rh)\n",
        "\n",
        "\n",
        "\n",
        ""
      ]
    }
  ]
}