{
  "nbformat": 4,
  "nbformat_minor": 0,
  "metadata": {
    "colab": {
      "provenance": [],
      "authorship_tag": "ABX9TyPmZgbhxheIcDEQufYwTZ+H",
      "include_colab_link": true
    },
    "kernelspec": {
      "name": "python3",
      "display_name": "Python 3"
    },
    "language_info": {
      "name": "python"
    }
  },
  "cells": [
    {
      "cell_type": "markdown",
      "metadata": {
        "id": "view-in-github",
        "colab_type": "text"
      },
      "source": [
        "<a href=\"https://colab.research.google.com/github/bharaniakella/bhosadiwale_dsa/blob/main/height_balanced_binary_tree.ipynb\" target=\"_parent\"><img src=\"https://colab.research.google.com/assets/colab-badge.svg\" alt=\"Open In Colab\"/></a>"
      ]
    },
    {
      "cell_type": "code",
      "execution_count": null,
      "metadata": {
        "id": "Rgdws8LtFPgr"
      },
      "outputs": [],
      "source": [
        "\n",
        "class Solution:\n",
        "    def isBalanced(self, root: Optional[TreeNode]) -> bool:\n",
        "        return self.height(root)!=-1\n",
        "\n",
        "    def height(self,root):\n",
        "        if(root is None):\n",
        "            return 0\n",
        "        lh=self.height(root.left)\n",
        "        if(lh==-1):\n",
        "            return -1\n",
        "        rh=self.height(root.right)\n",
        "        if(rh==-1):\n",
        "            return -1\n",
        "\n",
        "        if(abs(lh-rh)>1):\n",
        "            return -1\n",
        "\n",
        "        return 1+max(lh,rh)"
      ]
    }
  ]
}